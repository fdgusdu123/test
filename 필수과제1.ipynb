{
 "cells": [
  {
   "cell_type": "code",
   "execution_count": 1,
   "metadata": {},
   "outputs": [
    {
     "name": "stdout",
     "output_type": "stream",
     "text": [
      "너무 작습니다. 다시 입력하세요\n",
      "너무 작습니다. 다시 입력하세요\n",
      "너무 작습니다. 다시 입력하세요\n",
      "너무 작습니다. 다시 입력하세요\n",
      "정답입니다!\n"
     ]
    }
   ],
   "source": [
    "import random\n",
    "a = random.randint(1,10) #변수값\n",
    "while True: #조건을 사용해 게임을 반복\n",
    "    condition = int(input(\"1과 10사이의 숫자를 하나 정했습니다)\"))\n",
    "    if condition == a:\n",
    "        print(\"정답입니다!\")\n",
    "        break # 반복문을 멈춤\n",
    "    if condition >a:\n",
    "        print(\"너무 큽니다. 다시 입력하세요\")\n",
    "    if condition <a:\n",
    "        print(\"너무 작습니다. 다시 입력하세요\")"
   ]
  },
  {
   "cell_type": "code",
   "execution_count": null,
   "metadata": {},
   "outputs": [],
   "source": []
  }
 ],
 "metadata": {
  "kernelspec": {
   "display_name": "Python 3",
   "language": "python",
   "name": "python3"
  },
  "language_info": {
   "codemirror_mode": {
    "name": "ipython",
    "version": 3
   },
   "file_extension": ".py",
   "mimetype": "text/x-python",
   "name": "python",
   "nbconvert_exporter": "python",
   "pygments_lexer": "ipython3",
   "version": "3.13.0"
  }
 },
 "nbformat": 4,
 "nbformat_minor": 2
}
